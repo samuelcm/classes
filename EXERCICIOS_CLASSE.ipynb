{
 "cells": [
  {
   "cell_type": "markdown",
   "metadata": {},
   "source": [
    "# CLASSES"
   ]
  },
  {
   "cell_type": "markdown",
   "metadata": {},
   "source": [
    "\\class Dog:\n",
    "    sex = None\n",
    "    \n",
    "    def __init__(self, breed=None, size=None, age=None, color=None):\n",
    "        self.breed = breed\n",
    "        self.size = size\n",
    "        self.age = age\n",
    "        self.color = color\n",
    "    \n",
    "    def eat(self):\n",
    "        print('*** eat ***')\n",
    "    \n",
    "    def sit(self):\n",
    "        print('*** sit ***')\n",
    "        \n",
    "    def sleep(self):\n",
    "        print('*** sleep ***')\n",
    "    \n",
    "    def run(self):\n",
    "        print('*** run ***')\n",
    "    \n",
    "    def cross_dog(self, other):\n",
    "        if not (self.sex is None) and not (other.sex is None):\n",
    "            if (self.sex != other.sex):\n",
    "                print(' cross dogs!!!')\n",
    "                \n",
    "    def get_out (self):\n",
    "      print(self.breed, self.size, self.age, self.color)"
   ]
  },
  {
   "cell_type": "code",
   "execution_count": 28,
   "metadata": {},
   "outputs": [],
   "source": [
    "class Bola:\n",
    "    def __init__ (self, cor = None, circunferencia= None, material = None):\n",
    "        self.cor = cor \n",
    "        self.circunferencia = circunferencia \n",
    "        self.material = material \n",
    "    def mostrar_cor (self):\n",
    "        print (self.cor)\n",
    "    def trocar_Cor (self):\n",
    "        cor = input(\"Digite a cor\")\n",
    "        self.cor = cor"
   ]
  },
  {
   "cell_type": "code",
   "execution_count": 29,
   "metadata": {},
   "outputs": [],
   "source": [
    "bola1 = Bola(cor = 'vermelha', circunferencia = 2, material = 'plastico')"
   ]
  },
  {
   "cell_type": "code",
   "execution_count": 31,
   "metadata": {},
   "outputs": [
    {
     "name": "stdout",
     "output_type": "stream",
     "text": [
      "vermelha\n"
     ]
    }
   ],
   "source": [
    "bola1.mostrar_cor()"
   ]
  },
  {
   "cell_type": "code",
   "execution_count": 34,
   "metadata": {},
   "outputs": [
    {
     "name": "stdout",
     "output_type": "stream",
     "text": [
      "Digite a corverde\n"
     ]
    }
   ],
   "source": [
    "bola1.trocar_Cor()"
   ]
  },
  {
   "cell_type": "code",
   "execution_count": 35,
   "metadata": {},
   "outputs": [
    {
     "data": {
      "text/plain": [
       "'verde'"
      ]
     },
     "execution_count": 35,
     "metadata": {},
     "output_type": "execute_result"
    }
   ],
   "source": [
    "bola1.cor"
   ]
  },
  {
   "cell_type": "code",
   "execution_count": 54,
   "metadata": {},
   "outputs": [],
   "source": [
    "class Quadrado():\n",
    "    def __init__ (self, lado = None):\n",
    "        self.lado = lado\n",
    "    def alterar_lado(self):\n",
    "        lado = float(input(\"Lado: \"))\n",
    "        self.lado = lado\n",
    "    def mostrar_lado(self):\n",
    "        print(self.lado)\n",
    "    def area(self):\n",
    "        print(self.lado*2)\n",
    "        "
   ]
  },
  {
   "cell_type": "code",
   "execution_count": 55,
   "metadata": {},
   "outputs": [],
   "source": [
    "quad1 = Quadrado(lado = 2)"
   ]
  },
  {
   "cell_type": "code",
   "execution_count": 56,
   "metadata": {},
   "outputs": [
    {
     "name": "stdout",
     "output_type": "stream",
     "text": [
      "2\n"
     ]
    }
   ],
   "source": [
    "quad1.mostrar_lado()"
   ]
  },
  {
   "cell_type": "code",
   "execution_count": 57,
   "metadata": {},
   "outputs": [
    {
     "name": "stdout",
     "output_type": "stream",
     "text": [
      "Lado: 4\n"
     ]
    }
   ],
   "source": [
    "quad1.alterar_lado()"
   ]
  },
  {
   "cell_type": "code",
   "execution_count": 58,
   "metadata": {},
   "outputs": [
    {
     "name": "stdout",
     "output_type": "stream",
     "text": [
      "4.0\n"
     ]
    }
   ],
   "source": [
    "quad1.mostrar_lado()"
   ]
  },
  {
   "cell_type": "code",
   "execution_count": 59,
   "metadata": {},
   "outputs": [
    {
     "name": "stdout",
     "output_type": "stream",
     "text": [
      "8.0\n"
     ]
    }
   ],
   "source": [
    "quad1.area()"
   ]
  },
  {
   "cell_type": "markdown",
   "metadata": {},
   "source": [
    "##### Classe Retangulo: Crie uma classe que modele um retangulo:\n",
    "##### Atributos: LadoA, LadoB (ou Comprimento e Largura, ou Base e Altura, a escolher)\n",
    "##### Métodos:\n",
    "##### Mudar valor dos lados, Retornar valor dos lados, calcular Área, calcular Perímetro;"
   ]
  },
  {
   "cell_type": "code",
   "execution_count": 92,
   "metadata": {},
   "outputs": [],
   "source": [
    "class Retangulo():\n",
    "    def __init__ (self, comprimento = None, largura=None):\n",
    "        self.comprimento = comprimento\n",
    "        self.largura = largura\n",
    "    def mudar_lados(self):\n",
    "        comprimento = float(input('Comprimento: '))\n",
    "        self.comprimento = comprimento \n",
    "        self.largura = float(input('Largura: '))\n",
    "    def area (self):\n",
    "        a = self.largura * self.comprimento\n",
    "        print('Area: ', a)\n",
    "    def perimetro(self):\n",
    "        p = (self.largura * self.comprimento)*2\n",
    "        print ('Perimetro: ', p)"
   ]
  },
  {
   "cell_type": "code",
   "execution_count": 93,
   "metadata": {},
   "outputs": [],
   "source": [
    "retangulo1 = Retangulo(comprimento = 5, largura = 3)"
   ]
  },
  {
   "cell_type": "code",
   "execution_count": 94,
   "metadata": {},
   "outputs": [
    {
     "name": "stdout",
     "output_type": "stream",
     "text": [
      "Comprimento: 4\n",
      "Largura: 7\n"
     ]
    }
   ],
   "source": [
    "retangulo1.mudar_lados()"
   ]
  },
  {
   "cell_type": "code",
   "execution_count": 95,
   "metadata": {},
   "outputs": [
    {
     "data": {
      "text/plain": [
       "(4.0, 7.0)"
      ]
     },
     "execution_count": 95,
     "metadata": {},
     "output_type": "execute_result"
    }
   ],
   "source": [
    "retangulo1.comprimento, retangulo1.largura "
   ]
  },
  {
   "cell_type": "code",
   "execution_count": 96,
   "metadata": {},
   "outputs": [
    {
     "name": "stdout",
     "output_type": "stream",
     "text": [
      "Area:  28.0\n"
     ]
    }
   ],
   "source": [
    "retangulo1.area()"
   ]
  },
  {
   "cell_type": "code",
   "execution_count": 97,
   "metadata": {},
   "outputs": [
    {
     "name": "stdout",
     "output_type": "stream",
     "text": [
      "Perimetro:  56.0\n"
     ]
    }
   ],
   "source": [
    "retangulo1.perimetro()"
   ]
  },
  {
   "cell_type": "markdown",
   "metadata": {},
   "source": [
    "##### Crie um programa que utilize esta classe. Ele deve pedir ao usuário que informe as medidas de de um local.\n",
    "##### Depois, deve criar um objeto com as medidas e calcular a quantidade de pisos e de\n",
    "##### rodapés necessárias para o local."
   ]
  },
  {
   "cell_type": "code",
   "execution_count": 98,
   "metadata": {},
   "outputs": [
    {
     "name": "stdout",
     "output_type": "stream",
     "text": [
      "Informe as medidas\n",
      "Digite o comprimento: 12\n",
      "Digite a largura: 16\n"
     ]
    }
   ],
   "source": [
    "print('Informe as medidas')\n",
    "comp = float(input('Digite o comprimento: '))\n",
    "largura = float(input('Digite a largura: '))"
   ]
  },
  {
   "cell_type": "code",
   "execution_count": 99,
   "metadata": {},
   "outputs": [
    {
     "name": "stdout",
     "output_type": "stream",
     "text": [
      "Digite o comprimento: 12\n",
      "Digite a largura: 11\n"
     ]
    }
   ],
   "source": [
    "retangulo2 = Retangulo (comprimento = float(input('Digite o comprimento: ')), largura = float(input('Digite a largura: ')))"
   ]
  },
  {
   "cell_type": "code",
   "execution_count": 100,
   "metadata": {},
   "outputs": [
    {
     "data": {
      "text/plain": [
       "(12.0, 11.0)"
      ]
     },
     "execution_count": 100,
     "metadata": {},
     "output_type": "execute_result"
    }
   ],
   "source": [
    "retangulo2.comprimento, retangulo2.largura "
   ]
  },
  {
   "cell_type": "code",
   "execution_count": 101,
   "metadata": {},
   "outputs": [
    {
     "name": "stdout",
     "output_type": "stream",
     "text": [
      "Digite o comprimento: 15\n",
      "Digite a largura: 14\n"
     ]
    }
   ],
   "source": [
    "comp_r3 = float(input('Digite o comprimento: '))\n",
    "larg_r3 = float(input('Digite a largura: '))"
   ]
  },
  {
   "cell_type": "code",
   "execution_count": 102,
   "metadata": {},
   "outputs": [],
   "source": [
    "retangulo3 = Retangulo (comprimento = comp_r3, largura = larg_r3)"
   ]
  },
  {
   "cell_type": "code",
   "execution_count": 103,
   "metadata": {},
   "outputs": [
    {
     "data": {
      "text/plain": [
       "(15.0, 14.0)"
      ]
     },
     "execution_count": 103,
     "metadata": {},
     "output_type": "execute_result"
    }
   ],
   "source": [
    "retangulo3.comprimento, retangulo3.largura "
   ]
  },
  {
   "cell_type": "code",
   "execution_count": 104,
   "metadata": {},
   "outputs": [
    {
     "name": "stdout",
     "output_type": "stream",
     "text": [
      "Area:  210.0\n"
     ]
    }
   ],
   "source": [
    "retangulo3.area()"
   ]
  },
  {
   "cell_type": "code",
   "execution_count": 110,
   "metadata": {},
   "outputs": [],
   "source": [
    "rodape = 0.15\n",
    "piso = 0.6"
   ]
  },
  {
   "cell_type": "code",
   "execution_count": 111,
   "metadata": {},
   "outputs": [],
   "source": [
    "area = retangulo3.comprimento*retangulo3.largura \n",
    "perimetro = area*2\n",
    "qtd_piso = area/piso\n",
    "qtd_rodape = perimetro/rodape"
   ]
  },
  {
   "cell_type": "code",
   "execution_count": 112,
   "metadata": {},
   "outputs": [
    {
     "name": "stdout",
     "output_type": "stream",
     "text": [
      "São necessários 350.0 pisos para cobrir a area e 2800.0 rodapés\n"
     ]
    }
   ],
   "source": [
    "print(f'São necessários {qtd_piso} pisos para cobrir a area e {qtd_rodape} rodapés')"
   ]
  },
  {
   "cell_type": "markdown",
   "metadata": {},
   "source": [
    "#### Classe Pessoa: Crie uma classe que modele uma pessoa:\n",
    "#### Atributos: nome, idade, peso e altura\n",
    "#### Métodos: Envelhercer, engordar, emagrecer, crescer.\n",
    "#### Obs: Por padrão, a cada ano que nossa pessoa envelhece,\n",
    "#### sendo a idade dela menor que 21 anos, ela deve crescer 0,5 cm."
   ]
  },
  {
   "cell_type": "code",
   "execution_count": 166,
   "metadata": {},
   "outputs": [],
   "source": [
    "class Pessoa():\n",
    "    def __init__ (self, nome = None, idade = None, peso = None, altura = None):\n",
    "        self.nome = nome\n",
    "        self.idade = idade\n",
    "        self.peso = peso\n",
    "        self.altura = altura\n",
    "    def envelhecer(self):\n",
    "        nova_idade = int(input('Quantos anos está a pessoa agora?'))\n",
    "        envelheceu = nova_idade - self.idade\n",
    "        print(f'Sua pessoa envelheceu {envelheceu} anos')\n",
    "    def engordar_emagrecer(self):\n",
    "        kg_atual = float(input(\"Quilos atuais: \"))\n",
    "        if kg_atual > self.peso:\n",
    "            print(\"A pessoa engordou\", kg_atual-self.peso, 'quilos.')\n",
    "        elif self.peso > kg_atual:\n",
    "            print(\"A pessoa emagreceu\", self.peso-kg_atual, 'quilos.')\n",
    "    def crescer(self):\n",
    "        idade_atual = float(input('Idade atual: '))\n",
    "        \n",
    "        if idade_atual < self.idade:\n",
    "            print(\"Voce digitou uma idade atual menor do que a idade passada\")\n",
    "        elif idade_atual > self.idade and idade_atual<21:\n",
    "            crescimento = (21-idade_atual)*0.5\n",
    "            print(f\"A pessoa crescerá ainda {crescimento} centimetros.\")\n",
    "        else:\n",
    "            crescimento =0\n",
    "            print(\"Ela não crescerá mais.\")\n",
    "            \n",
    "    def print_all (self):\n",
    "        print ('Nome:', self.nome, ' Idade:', self.idade,' Peso:', self.peso,' Altura:', self.altura)"
   ]
  },
  {
   "cell_type": "code",
   "execution_count": 169,
   "metadata": {},
   "outputs": [
    {
     "name": "stdout",
     "output_type": "stream",
     "text": [
      "Nome: Joao  Idade: 18  Peso: 75  Altura: 1.7\n"
     ]
    }
   ],
   "source": [
    "joao = Pessoa (nome = 'Joao', idade=18, peso = 75, altura = 1.70)\n",
    "joao.print_all()"
   ]
  },
  {
   "cell_type": "code",
   "execution_count": 149,
   "metadata": {},
   "outputs": [
    {
     "name": "stdout",
     "output_type": "stream",
     "text": [
      "Quilos atuais: 77\n",
      "A pessoa engordou 2.0 quilos.\n"
     ]
    }
   ],
   "source": [
    "joao.engordar_emagrecer()"
   ]
  },
  {
   "cell_type": "code",
   "execution_count": 170,
   "metadata": {},
   "outputs": [
    {
     "name": "stdout",
     "output_type": "stream",
     "text": [
      "Idade atual: 12\n",
      "Voce digitou uma idade atual menor do que a idade passada\n"
     ]
    }
   ],
   "source": [
    "joao.crescer()"
   ]
  },
  {
   "cell_type": "markdown",
   "metadata": {},
   "source": [
    "#### Classe Conta Corrente: Crie uma classe para implementar uma conta corrente.\n",
    "#### A classe deve possuir os seguintes atributos: número da conta, nome do correntista\n",
    "#### e saldo. Os métodos são os seguintes: alterarNome, depósito e saque; No construtor,\n",
    "#### saldo é opcional, com valor default zero e os demais atributos são obrigatórios.\n"
   ]
  },
  {
   "cell_type": "code",
   "execution_count": 171,
   "metadata": {},
   "outputs": [],
   "source": [
    "class Conta():\n",
    "    def __init__ (self, num_conta = None, correntista = None, saldo = 0):\n",
    "        self.num_conta = num_conta\n",
    "        self.correntista = correntista\n",
    "        self.saldo = saldo \n",
    "    def alterarNome (self):\n",
    "        novo_nome = input(\"Digite novo nome\")\n",
    "        self.correntista = novo_nome\n",
    "    def deposito (self):\n",
    "        valor_d = float(input(\"Valor de deposito: \"))\n",
    "        print ('Valor de deposito: ', valor_d)\n",
    "    def saque(self):\n",
    "        valor_s = float(input(\"Valor de saque: \"))\n",
    "        print ('Valor de deposito: ', saque)\n",
    "    def mostrar_saldo(self):\n",
    "        if "
   ]
  },
  {
   "cell_type": "code",
   "execution_count": null,
   "metadata": {},
   "outputs": [],
   "source": []
  }
 ],
 "metadata": {
  "kernelspec": {
   "display_name": "Python 3",
   "language": "python",
   "name": "python3"
  },
  "language_info": {
   "codemirror_mode": {
    "name": "ipython",
    "version": 3
   },
   "file_extension": ".py",
   "mimetype": "text/x-python",
   "name": "python",
   "nbconvert_exporter": "python",
   "pygments_lexer": "ipython3",
   "version": "3.7.0"
  }
 },
 "nbformat": 4,
 "nbformat_minor": 2
}
